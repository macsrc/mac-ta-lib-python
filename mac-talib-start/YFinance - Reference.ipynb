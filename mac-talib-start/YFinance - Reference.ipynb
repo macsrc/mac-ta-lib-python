{
 "cells": [
  {
   "cell_type": "markdown",
   "id": "ae397720",
   "metadata": {},
   "source": [
    "# Yahoo Finance - overview\n"
   ]
  },
  {
   "cell_type": "markdown",
   "id": "97a99520",
   "metadata": {},
   "source": [
    "## 1) yfinance @github\n",
    "     Link - https://github.com/ranaroussi/yfinance/tree/6654a41a8d5c0c9e869a9b9acb3e143786c765c7 "
   ]
  },
  {
   "cell_type": "code",
   "execution_count": null,
   "id": "efad6cea",
   "metadata": {},
   "outputs": [],
   "source": [
    "import yfinance as yf\n",
    "\n",
    "msft = yf.Ticker(\"MSFT\")\n",
    "\n",
    "# get stock info\n",
    "msft.info\n",
    "\n",
    "# get historical market data\n",
    "hist = msft.history(period=\"max\")\n",
    "\n",
    "# show actions (dividends, splits)\n",
    "msft.actions\n",
    "\n",
    "# show dividends\n",
    "msft.dividends\n",
    "\n",
    "# show splits\n",
    "msft.splits\n",
    "\n",
    "# show financials\n",
    "msft.financials\n",
    "msft.quarterly_financials\n",
    "\n",
    "# show major holders\n",
    "msft.major_holders\n",
    "\n",
    "# show institutional holders\n",
    "msft.institutional_holders\n",
    "\n",
    "# show balance sheet\n",
    "msft.balance_sheet\n",
    "msft.quarterly_balance_sheet\n",
    "\n",
    "# show cashflow\n",
    "msft.cashflow\n",
    "msft.quarterly_cashflow\n"
   ]
  },
  {
   "cell_type": "code",
   "execution_count": null,
   "id": "af4ae656",
   "metadata": {},
   "outputs": [],
   "source": [
    "\n",
    "# show earnings\n",
    "msft.earnings\n",
    "msft.quarterly_earnings\n",
    "\n",
    "# show sustainability\n",
    "msft.sustainability\n",
    "\n",
    "# show analysts recommendations\n",
    "msft.recommendations\n",
    "\n",
    "# show next event (earnings, etc)\n",
    "msft.calendar\n",
    "\n"
   ]
  },
  {
   "cell_type": "markdown",
   "id": "01e07717",
   "metadata": {},
   "source": [
    "### Work aroud for earnings"
   ]
  },
  {
   "cell_type": "code",
   "execution_count": null,
   "id": "a38b6034",
   "metadata": {},
   "outputs": [],
   "source": [
    "\n",
    "ES = stock.get_earnings_dates()\n",
    "ES.head()"
   ]
  },
  {
   "cell_type": "code",
   "execution_count": null,
   "id": "51cceee4",
   "metadata": {},
   "outputs": [],
   "source": [
    "# show ISIN code - *experimental*\n",
    "# ISIN = International Securities Identification Number\n",
    "msft.isin\n",
    "\n",
    "# show options expirations\n",
    "msft.options\n",
    "\n",
    "# show news\n",
    "msft.news\n",
    "\n",
    "# get option chain for specific expiration\n",
    "# opt = msft.option_chain('YYYY-MM-DD')\n",
    "opt = msft.option_chain('2023-07-21')\n",
    "\n",
    "# data available via: opt.calls, opt.puts"
   ]
  },
  {
   "cell_type": "markdown",
   "id": "858aa4fc",
   "metadata": {},
   "source": [
    "## YF Data download\n",
    "  ### Download Template"
   ]
  },
  {
   "cell_type": "code",
   "execution_count": null,
   "id": "ea5096ef",
   "metadata": {},
   "outputs": [],
   "source": [
    "data = yf.download(  # or pdr.get_data_yahoo(...\n",
    "        # tickers list or string as well\n",
    "        tickers = \"SPY AAPL MSFT\",\n",
    "\n",
    "        # use \"period\" instead of start/end\n",
    "        # valid periods: 1d,5d,1mo,3mo,6mo,1y,2y,5y,10y,ytd,max\n",
    "        # (optional, default is '1mo')\n",
    "        period = \"7d\",\n",
    "\n",
    "        # fetch data by interval (including intraday if period < 60 days)\n",
    "        # valid intervals: 1m,2m,5m,15m,30m,60m,90m,1h,1d,5d,1wk,1mo,3mo\n",
    "        # (optional, default is '1d')\n",
    "        interval = \"1m\",\n",
    "\n",
    "        # group by ticker (to access via data['SPY'])\n",
    "        # (optional, default is 'column')\n",
    "        group_by = 'ticker',\n",
    "\n",
    "        # adjust all OHLC automatically\n",
    "        # (optional, default is False)\n",
    "        auto_adjust = True,\n",
    "\n",
    "        # download pre/post regular market hours data\n",
    "        # (optional, default is False)\n",
    "        prepost = True,\n",
    "\n",
    "        # use threads for mass downloading? (True/False/Integer)\n",
    "        # (optional, default is True)\n",
    "        threads = True,\n",
    "\n",
    "        # proxy URL scheme use use when downloading?\n",
    "        # (optional, default is None)\n",
    "        proxy = None\n",
    "    )\n",
    "\n"
   ]
  },
  {
   "cell_type": "code",
   "execution_count": null,
   "id": "9308c50e",
   "metadata": {},
   "outputs": [],
   "source": [
    "# Split Datetime to new columns\n",
    "data2 = data.copy()\n",
    "\n",
    "data2['hour'], data2['minute']  = data.index.hour, data.index.minute\n",
    "data2['hour_mins'] = data2['hour'].astype(str) + data2['minute'].astype(str)\n",
    "\n",
    "data2"
   ]
  },
  {
   "cell_type": "code",
   "execution_count": null,
   "id": "521dc44e",
   "metadata": {},
   "outputs": [],
   "source": [
    "# Downloaded data\n",
    "# print(fetch_data)\n",
    "data.size"
   ]
  },
  {
   "cell_type": "markdown",
   "id": "0116dfa8",
   "metadata": {},
   "source": [
    "## 2) Reliably download historical market data from with Python\n",
    "     Link - https://aroussi.com/post/python-yahoo-finance"
   ]
  },
  {
   "cell_type": "code",
   "execution_count": null,
   "id": "acd9e2ad",
   "metadata": {},
   "outputs": [],
   "source": [
    "import yfinance as yf\n",
    "\n",
    "msft = yf.Ticker(\"MSFT\")\n",
    "print(msft)"
   ]
  },
  {
   "cell_type": "code",
   "execution_count": null,
   "id": "a33236a4",
   "metadata": {},
   "outputs": [],
   "source": [
    "# get stock info\n",
    "msft.info"
   ]
  },
  {
   "cell_type": "code",
   "execution_count": null,
   "id": "3a7922c7",
   "metadata": {},
   "outputs": [],
   "source": [
    "# get historical market data\n",
    "msft.history(period=\"max\")"
   ]
  },
  {
   "cell_type": "code",
   "execution_count": null,
   "id": "b6df0da9",
   "metadata": {},
   "outputs": [],
   "source": [
    "# show actions (dividends, splits)\n",
    "msft.actions"
   ]
  },
  {
   "cell_type": "code",
   "execution_count": null,
   "id": "c3a802da",
   "metadata": {},
   "outputs": [],
   "source": [
    "# show dividends\n",
    "msft.dividends"
   ]
  },
  {
   "cell_type": "code",
   "execution_count": null,
   "id": "bb243913",
   "metadata": {},
   "outputs": [],
   "source": [
    "# show splits\n",
    "msft.splits"
   ]
  },
  {
   "cell_type": "markdown",
   "id": "523fd394",
   "metadata": {},
   "source": [
    "## Handle Datetime to new columns"
   ]
  },
  {
   "cell_type": "code",
   "execution_count": null,
   "id": "70db4a81",
   "metadata": {},
   "outputs": [],
   "source": [
    "# Split Datetime to new columns\n",
    "data2 = data.copy()\n",
    "\n",
    "data2['hour'], data2['minute']  = data.index.hour, data.index.minute\n",
    "data2['hour_mins'] = data2['hour'].astype(str) + data2['minute'].astype(str)\n",
    "\n",
    "data2\n",
    "\n",
    "# Split Datetime \n",
    "new_df = df.copy()\n",
    "new_df['year'], new_df['month'], new_df['day'] = df.index.year, df.index.month, df.index.day\n",
    "\n",
    "\n",
    "# Calucation support\n",
    "start_date = df.index.min()\n",
    "new_df['trade_day'] = df.index.day - start_date.day\n",
    "new_df['trade_week'] = df.index.week - start_date.week\n",
    "new_df['trade_year'] = df.index.year - start_date.year\n",
    "new_df['day_of_week'] =  df.index.weekday\n",
    "new_df['days_in_month'] =  df.index.days_in_month\n",
    "new_df['day_name'] =  df.index.day_name()\n",
    "new_df['month_name'] =  df.index.month_name()\n",
    "\n"
   ]
  },
  {
   "cell_type": "markdown",
   "id": "07b050eb",
   "metadata": {},
   "source": [
    "### Get desired column values"
   ]
  },
  {
   "cell_type": "code",
   "execution_count": null,
   "id": "bfad3644",
   "metadata": {},
   "outputs": [],
   "source": [
    "# The best practice is to use loc, but the concept is the same:\n",
    "\n",
    "df.loc[row, col]\n",
    "\n",
    "# row and col can be specified directly (e.g., 'A' or ['A', 'B']) or with a mask (e.g. df['B'] == 3). Using the example below:\n",
    "\n",
    "df.loc[df['B'] == 3, 'A']\n",
    "\n",
    "# To get the first matched value from the series there are several options:\n",
    "\n",
    "df['A'][df['B'] == 3].values[0]\n",
    "df['A'][df['B'] == 3].iloc[0]\n",
    "df['A'][df['B'] == 3].to_numpy()[0]\n"
   ]
  },
  {
   "cell_type": "code",
   "execution_count": null,
   "id": "2da5ec12",
   "metadata": {},
   "outputs": [],
   "source": []
  }
 ],
 "metadata": {
  "kernelspec": {
   "display_name": "Python 3 (ipykernel)",
   "language": "python",
   "name": "python3"
  },
  "language_info": {
   "codemirror_mode": {
    "name": "ipython",
    "version": 3
   },
   "file_extension": ".py",
   "mimetype": "text/x-python",
   "name": "python",
   "nbconvert_exporter": "python",
   "pygments_lexer": "ipython3",
   "version": "3.10.9"
  }
 },
 "nbformat": 4,
 "nbformat_minor": 5
}
